{
 "cells": [
  {
   "cell_type": "code",
   "execution_count": 3,
   "metadata": {},
   "outputs": [
    {
     "name": "stdout",
     "output_type": "stream",
     "text": [
      "Shape: (1329, 15)\n",
      "   EUI_kWh_per_sqmt         SQMT  NFLOOR  FLCEILHT  MONUSE  OCCUPYP  WKHRS  \\\n",
      "0        446.557221   19509.6300     994        12      12    100.0     70   \n",
      "1        194.982475    2601.2840       5         8      12    100.0     45   \n",
      "2        226.306350    2833.5415       3        10      12     43.0     50   \n",
      "3        281.839592   17094.1520       3        12      12     92.0     38   \n",
      "4        359.900019  139354.5000     995        12      12    100.0    168   \n",
      "\n",
      "   NWKER  HEATP  COOLP  DAYLTP  HDD65  CDD65  YRCONC  PUBCLIM  \n",
      "0    350  100.0  100.0     0.0   4463   1759       2        3  \n",
      "1     12   80.0  100.0    15.0   2424    189       6        4  \n",
      "2     25  100.0  100.0     0.0   4615   1184       7        3  \n",
      "3    400  100.0  100.0    15.0   3943   1680       2        4  \n",
      "4   2500   98.0   98.0     0.0   5545   1262       2        7  \n"
     ]
    }
   ],
   "source": [
    "import pandas as pd\n",
    "\n",
    "csv_path = \"/Users/georgepaul/Desktop/portfolio/SQL/Data_Ready_Model.csv\"\n",
    "df = pd.read_csv(csv_path)\n",
    "\n",
    "print(f\"Shape: {df.shape}\")\n",
    "print(df.head())"
   ]
  },
  {
   "cell_type": "code",
   "execution_count": 4,
   "metadata": {},
   "outputs": [
    {
     "name": "stdout",
     "output_type": "stream",
     "text": [
      "✅ CSV loaded: (1329, 15)\n",
      "🗑️ Old DB removed\n",
      "✅ New DB created with table: buildings\n"
     ]
    }
   ],
   "source": [
    "import sqlite3\n",
    "import pandas as pd\n",
    "import os\n",
    "\n",
    "# Paths\n",
    "csv_path = \"/Users/georgepaul/Desktop/portfolio/SQL/Data_Ready_Model.csv\"\n",
    "db_path = \"/Users/georgepaul/Desktop/portfolio/SQL/model_data.db\"\n",
    "\n",
    "# Load and check\n",
    "df = pd.read_csv(csv_path)\n",
    "print(f\"✅ CSV loaded: {df.shape}\")\n",
    "\n",
    "# Remove old DB (if broken)\n",
    "if os.path.exists(db_path):\n",
    "    os.remove(db_path)\n",
    "    print(\"🗑️ Old DB removed\")\n",
    "\n",
    "# Write to SQLite\n",
    "conn = sqlite3.connect(db_path)\n",
    "df.to_sql(\"buildings\", conn, if_exists=\"replace\", index=False)\n",
    "conn.close()\n",
    "\n",
    "print(\"✅ New DB created with table: buildings\")"
   ]
  },
  {
   "cell_type": "code",
   "execution_count": 5,
   "metadata": {},
   "outputs": [
    {
     "name": "stdout",
     "output_type": "stream",
     "text": [
      "Tables found: [('buildings',)]\n"
     ]
    }
   ],
   "source": [
    "conn = sqlite3.connect(db_path)\n",
    "cursor = conn.cursor()\n",
    "cursor.execute(\"SELECT name FROM sqlite_master WHERE type='table';\")\n",
    "print(\"Tables found:\", cursor.fetchall())\n",
    "conn.close()"
   ]
  },
  {
   "cell_type": "code",
   "execution_count": null,
   "metadata": {},
   "outputs": [],
   "source": []
  }
 ],
 "metadata": {
  "kernelspec": {
   "display_name": "Applied",
   "language": "python",
   "name": "python3"
  },
  "language_info": {
   "codemirror_mode": {
    "name": "ipython",
    "version": 3
   },
   "file_extension": ".py",
   "mimetype": "text/x-python",
   "name": "python",
   "nbconvert_exporter": "python",
   "pygments_lexer": "ipython3",
   "version": "3.12.8"
  }
 },
 "nbformat": 4,
 "nbformat_minor": 2
}
